{
 "cells": [
  {
   "cell_type": "code",
   "execution_count": 1,
   "id": "fbde2791-1dd2-47ac-bae8-14c29b62ab7a",
   "metadata": {},
   "outputs": [],
   "source": [
    "# Webscraping Application\n",
    "# Importing Dependencies\n",
    "\n",
    "from flask import Flask, render_template, redirect\n",
    "from pandas import pandas as pd\n",
    "from splinter import Browser\n",
    "from bs4 import BeautifulSoup\n",
    "from webdriver_manager.chrome import ChromeDriverManager\n",
    "import pymongo\n",
    "import time"
   ]
  },
  {
   "cell_type": "code",
   "execution_count": 2,
   "id": "c2dab46e-e43b-4e6d-a804-87eb195699b5",
   "metadata": {},
   "outputs": [],
   "source": [
    "# Application Name\n",
    "mars_site = Flask(__name__)\n",
    "\n",
    "# Defining procedures to scrape a number of websites\n",
    "\n",
    "executable_path = {\"executable_path\": \"C:/webdrivers/chromedriver.exe\"}\n",
    "browser = Browser(\"chrome\", **executable_path, headless=False)\n",
    "url = [\"https://redplanetscience.com/\", \"https://spaceimages-mars.com/image/featured/mars3.jpg\", \"https://galaxyfacts-mars.com\",\"https://marshemispheres.com/\"]\n"
   ]
  },
  {
   "cell_type": "code",
   "execution_count": 3,
   "id": "fea90ba3-46ee-45ff-b000-527e20e2be09",
   "metadata": {},
   "outputs": [],
   "source": [
    "# Scraping News From the Mars website using Splinter \n",
    "browser.visit(url[0])\n",
    "html = browser.html\n",
    "soup = BeautifulSoup(html, \"html.parser\")\n",
    "    \n",
    "mars_info = {}\n",
    "    \n",
    "mars_info['latest_title'] = soup.find(\"div\", class_ = \"content_title\").get_text()\n",
    "mars_info['latest_paragraph'] = soup.find(\"div\", class_ = \"article_teaser_body\").get_text()\n",
    "    \n",
    "#browser.quit()"
   ]
  },
  {
   "cell_type": "code",
   "execution_count": 4,
   "id": "d6fdc734-9be8-4ad0-92c9-aa53231b207d",
   "metadata": {},
   "outputs": [
    {
     "name": "stdout",
     "output_type": "stream",
     "text": [
      "{'latest_title': \"NASA's Mars Perseverance Rover Gets Its Sample Handling System\", 'latest_paragraph': 'The system will be collecting and storing Martian rock and soil. Its installation marks another milestone in the march toward the July launch period.'}\n"
     ]
    }
   ],
   "source": [
    "print(mars_info)"
   ]
  },
  {
   "cell_type": "code",
   "execution_count": 8,
   "id": "67a98003-8f21-4c52-83df-943f2a91c6c2",
   "metadata": {},
   "outputs": [],
   "source": [
    "# Visit JPL Featured Space Image url\n",
    "url_spaceimage = url[1]\n",
    "browser.visit(url_spaceimage)\n",
    "\n",
    "# HTML Object\n",
    "img_html = browser.html\n",
    "img_soup = BeautifulSoup(img_html, \"html.parser\")\n",
    "\n",
    "# Display url\n",
    "main_url = url[1]\n",
    "\n",
    "mars_info[\"featured_image_url\"] = main_url"
   ]
  },
  {
   "cell_type": "code",
   "execution_count": 10,
   "id": "04287ce7-d5b0-4e9e-9a91-14d1cad3332e",
   "metadata": {},
   "outputs": [],
   "source": [
    "# Visit the Mars Facts webpage and use Pandas to scrape the table\n",
    "url_facts = url[2]\n",
    "\n",
    "# Use Pandas - read_html - to scrape tabular data from a page\n",
    "mars_facts = pd.read_html(url_facts)\n",
    "\n",
    "# Find the mars facts DataFrame in the list\n",
    "mars_df = mars_facts[0]\n",
    "\n",
    "# Create Data Frame\n",
    "mars_df.columns = [\"Description\", \"Value\", \" \"]\n",
    "\n",
    "# Set index to Description\n",
    "mars_df.set_index(\"Description\", inplace=True)\n",
    "\n",
    "# Save html code to folder Assets\n",
    "html_table = mars_df.to_html()\n",
    "\n",
    "# Strip unwanted newlines to clean up the table\n",
    "html_table.replace(\"\\n\", '')\n",
    "\n",
    "# Save html code\n",
    "mars_df.to_html(\"mars_facts_data.html\")\n",
    "\n",
    "mars_info[\"mars_facts\"] = html_table"
   ]
  },
  {
   "cell_type": "code",
   "execution_count": null,
   "id": "f5d6962d-7adb-44a0-b4b6-a646bfa07585",
   "metadata": {},
   "outputs": [],
   "source": [
    "# Visit the Mars Hemisphere website link\n",
    "browser.visit(url[3])\n",
    "\n",
    "# HTML Object\n",
    "html_hemisphere = browser.html\n",
    "hem_soup = BeautifulSoup(html_hemisphere, \"html.parser\")\n",
    "\n",
    "# Find containers whcih has mars hemispheres information\n",
    "hemispheres = hem_soup.find_all(\"div\", class_=\"item\")\n",
    "\n",
    "# Create empty list\n",
    "hemispheres_info = []\n",
    "\n",
    "# Sign main url for loop\n",
    "hemispheres_url = url[3]\n",
    "\n",
    "# Loop through the list of all hemispheres information\n",
    "for i in hemispheres:\n",
    "    title = i.find(\"h3\").text\n",
    "    hemispheres_img = i.find(\"a\", class_=\"itemLink product-item\")[\"href\"]\n",
    "\n",
    "    # Visit the link that contains the full image website \n",
    "    browser.visit(hemispheres_url + hemispheres_img)\n",
    "\n",
    "    # HTML Object\n",
    "    image_html = browser.html\n",
    "    web_info = BeautifulSoup(image_html, \"html.parser\")\n",
    "\n",
    "    # Create full image url\n",
    "    img_url = hemispheres_url + web_info.find(\"img\", class_=\"wide-image\")[\"src\"]\n",
    "\n",
    "    mars_info[\"title\"] = title.strip()       \n",
    "    mars_info[\"img_url\"] = img_url\n",
    "\n",
    "    hemispheres_info.append({\"title\" : title, \"img_url\" : img_url})\n",
    "\n",
    "    mars_info[\"hemispheres_info\"] = hemispheres_info"
   ]
  },
  {
   "cell_type": "code",
   "execution_count": null,
   "id": "3646c80b-63ac-48f6-a442-0fe887ae419c",
   "metadata": {},
   "outputs": [],
   "source": [
    "#Quits browser after scrape procedure\n",
    "browser.quit()"
   ]
  }
 ],
 "metadata": {
  "kernelspec": {
   "display_name": "Python 3",
   "language": "python",
   "name": "python3"
  },
  "language_info": {
   "codemirror_mode": {
    "name": "ipython",
    "version": 3
   },
   "file_extension": ".py",
   "mimetype": "text/x-python",
   "name": "python",
   "nbconvert_exporter": "python",
   "pygments_lexer": "ipython3",
   "version": "3.8.8"
  }
 },
 "nbformat": 4,
 "nbformat_minor": 5
}
